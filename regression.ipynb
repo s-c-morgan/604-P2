{
 "cells": [
  {
   "cell_type": "code",
   "execution_count": 1,
   "id": "e018e00b-9dd1-4613-b21c-840fe49d0f90",
   "metadata": {},
   "outputs": [
    {
     "name": "stderr",
     "output_type": "stream",
     "text": [
      "Loading required package: Matrix\n",
      "\n",
      "── \u001b[1mAttaching core tidyverse packages\u001b[22m ──────────────────────── tidyverse 2.0.0 ──\n",
      "\u001b[32m✔\u001b[39m \u001b[34mdplyr    \u001b[39m 1.1.4     \u001b[32m✔\u001b[39m \u001b[34mreadr    \u001b[39m 2.1.5\n",
      "\u001b[32m✔\u001b[39m \u001b[34mforcats  \u001b[39m 1.0.0     \u001b[32m✔\u001b[39m \u001b[34mstringr  \u001b[39m 1.5.1\n",
      "\u001b[32m✔\u001b[39m \u001b[34mggplot2  \u001b[39m 3.5.2     \u001b[32m✔\u001b[39m \u001b[34mtibble   \u001b[39m 3.2.1\n",
      "\u001b[32m✔\u001b[39m \u001b[34mlubridate\u001b[39m 1.9.3     \u001b[32m✔\u001b[39m \u001b[34mtidyr    \u001b[39m 1.3.1\n",
      "\u001b[32m✔\u001b[39m \u001b[34mpurrr    \u001b[39m 1.0.2     \n",
      "── \u001b[1mConflicts\u001b[22m ────────────────────────────────────────── tidyverse_conflicts() ──\n",
      "\u001b[31m✖\u001b[39m \u001b[34mtidyr\u001b[39m::\u001b[32mexpand()\u001b[39m masks \u001b[34mMatrix\u001b[39m::expand()\n",
      "\u001b[31m✖\u001b[39m \u001b[34mdplyr\u001b[39m::\u001b[32mfilter()\u001b[39m masks \u001b[34mstats\u001b[39m::filter()\n",
      "\u001b[31m✖\u001b[39m \u001b[34mdplyr\u001b[39m::\u001b[32mlag()\u001b[39m    masks \u001b[34mstats\u001b[39m::lag()\n",
      "\u001b[31m✖\u001b[39m \u001b[34mtidyr\u001b[39m::\u001b[32mpack()\u001b[39m   masks \u001b[34mMatrix\u001b[39m::pack()\n",
      "\u001b[31m✖\u001b[39m \u001b[34mtidyr\u001b[39m::\u001b[32munpack()\u001b[39m masks \u001b[34mMatrix\u001b[39m::unpack()\n",
      "\u001b[36mℹ\u001b[39m Use the conflicted package (\u001b[3m\u001b[34m<http://conflicted.r-lib.org/>\u001b[39m\u001b[23m) to force all conflicts to become errors\n"
     ]
    }
   ],
   "source": [
    "library(lme4)\n",
    "library(fixest)\n",
    "library(tidyverse)\n",
    "# load data\n",
    "load(\"brain.rda\")"
   ]
  },
  {
   "cell_type": "code",
   "execution_count": 2,
   "id": "6ceb6de0-787a-4377-badb-84ff1801beca",
   "metadata": {},
   "outputs": [],
   "source": [
    "region <- arraymeta %>%\n",
    "    dplyr::select(region.ancg, region.cb, region.dlpfc) %>%\n",
    "    max.col %>%\n",
    "    as.character\n",
    "lab <- arraymeta %>%\n",
    "    dplyr::select(lab.davis, lab.irvine, lab.michigan) %>%\n",
    "    max.col %>%\n",
    "    as.character\n",
    "covariates <- arraymeta %>%\n",
    "    dplyr::select(patient, age, sex, arrayversion) %>%\n",
    "    dplyr::mutate(lab = lab, region = region) %>%\n",
    "    dplyr::mutate(age.indicator = ifelse(age > 70, 1, 0)) \n",
    "is.gene <- !is.na(genemeta[\"chrom\",])\n",
    "expression.used <- expression[ ,is.gene]\n",
    "colnames(expression.used) <- paste0(\"gene\", 1:sum(is.gene))\n",
    "dep.used <- unname(colnames(expression.used))\n",
    "df <- cbind(covariates, expression.used)"
   ]
  },
  {
   "cell_type": "code",
   "execution_count": 3,
   "id": "398f0f6b-4bb0-47b9-a973-75cf3e71d7e4",
   "metadata": {},
   "outputs": [],
   "source": [
    "mod <- fixest::feols(.[dep.used] ~ age.indicator |  sex + arrayversion + lab + region, df)"
   ]
  },
  {
   "cell_type": "code",
   "execution_count": 4,
   "id": "064bf99f-ba0e-4455-993f-0af24a655063",
   "metadata": {},
   "outputs": [],
   "source": [
    "result.summary <- summary(mod, \"compact\", se = \"hetero\")\n",
    "result.summary$lhs <- genemeta[\"sym\", is.gene]"
   ]
  },
  {
   "cell_type": "code",
   "execution_count": 5,
   "id": "5bcbe689-8b17-4497-bbd3-6bd498283a2a",
   "metadata": {
    "scrolled": true
   },
   "outputs": [
    {
     "data": {
      "text/html": [
       "<table class=\"dataframe\">\n",
       "<caption>A data.frame: 6 × 2</caption>\n",
       "<thead>\n",
       "\t<tr><th></th><th scope=col>lhs</th><th scope=col>age.indicator</th></tr>\n",
       "\t<tr><th></th><th scope=col>&lt;chr&gt;</th><th scope=col>&lt;chr&gt;</th></tr>\n",
       "</thead>\n",
       "<tbody>\n",
       "\t<tr><th scope=row>1</th><td>DDR1  </td><td>0.025 (0.103) </td></tr>\n",
       "\t<tr><th scope=row>2</th><td>RFC2  </td><td>0.014 (0.098) </td></tr>\n",
       "\t<tr><th scope=row>3</th><td>HSPA6 </td><td>0.040 (0.109) </td></tr>\n",
       "\t<tr><th scope=row>4</th><td>PAX8  </td><td>-0.005 (0.098)</td></tr>\n",
       "\t<tr><th scope=row>5</th><td>GUCA1A</td><td>0.005 (0.084) </td></tr>\n",
       "\t<tr><th scope=row>6</th><td>UBA7  </td><td>0.030 (0.092) </td></tr>\n",
       "</tbody>\n",
       "</table>\n"
      ],
      "text/latex": [
       "A data.frame: 6 × 2\n",
       "\\begin{tabular}{r|ll}\n",
       "  & lhs & age.indicator\\\\\n",
       "  & <chr> & <chr>\\\\\n",
       "\\hline\n",
       "\t1 & DDR1   & 0.025 (0.103) \\\\\n",
       "\t2 & RFC2   & 0.014 (0.098) \\\\\n",
       "\t3 & HSPA6  & 0.040 (0.109) \\\\\n",
       "\t4 & PAX8   & -0.005 (0.098)\\\\\n",
       "\t5 & GUCA1A & 0.005 (0.084) \\\\\n",
       "\t6 & UBA7   & 0.030 (0.092) \\\\\n",
       "\\end{tabular}\n"
      ],
      "text/markdown": [
       "\n",
       "A data.frame: 6 × 2\n",
       "\n",
       "| <!--/--> | lhs &lt;chr&gt; | age.indicator &lt;chr&gt; |\n",
       "|---|---|---|\n",
       "| 1 | DDR1   | 0.025 (0.103)  |\n",
       "| 2 | RFC2   | 0.014 (0.098)  |\n",
       "| 3 | HSPA6  | 0.040 (0.109)  |\n",
       "| 4 | PAX8   | -0.005 (0.098) |\n",
       "| 5 | GUCA1A | 0.005 (0.084)  |\n",
       "| 6 | UBA7   | 0.030 (0.092)  |\n",
       "\n"
      ],
      "text/plain": [
       "  lhs    age.indicator \n",
       "1 DDR1   0.025 (0.103) \n",
       "2 RFC2   0.014 (0.098) \n",
       "3 HSPA6  0.040 (0.109) \n",
       "4 PAX8   -0.005 (0.098)\n",
       "5 GUCA1A 0.005 (0.084) \n",
       "6 UBA7   0.030 (0.092) "
      ]
     },
     "metadata": {},
     "output_type": "display_data"
    }
   ],
   "source": [
    "head(result.summary)"
   ]
  }
 ],
 "metadata": {
  "kernelspec": {
   "display_name": "R",
   "language": "R",
   "name": "ir"
  },
  "language_info": {
   "codemirror_mode": "r",
   "file_extension": ".r",
   "mimetype": "text/x-r-source",
   "name": "R",
   "pygments_lexer": "r",
   "version": "4.3.3"
  }
 },
 "nbformat": 4,
 "nbformat_minor": 5
}
